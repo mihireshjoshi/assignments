{
 "cells": [
  {
   "cell_type": "code",
   "execution_count": 3,
   "metadata": {},
   "outputs": [
    {
     "name": "stdout",
     "output_type": "stream",
     "text": [
      "Enter your choice\n",
      "0 to calculate grade\n",
      "1 to Exit\n",
      "please enter marks\n",
      "D\n",
      "Enter your choice\n",
      "0 to calculate grade\n",
      "1 to Exit\n",
      "please enter marks\n",
      "Fail\n",
      "Enter your choice\n",
      "0 to calculate grade\n",
      "1 to Exit\n",
      "please enter marks\n",
      "A+\n",
      "Enter your choice\n",
      "0 to calculate grade\n",
      "1 to Exit\n"
     ]
    }
   ],
   "source": [
    "def in_marks():\n",
    "    print(\"please enter marks\")\n",
    "    marks=int(input())\n",
    "    return marks\n",
    "\n",
    "def grading(x):\n",
    "    if(x>=90):\n",
    "        grade=\"A+\"\n",
    "    elif(90>x>=80):\n",
    "        grade=\"A\"\n",
    "    elif(80>x>=70):\n",
    "        grade=\"B\"\n",
    "    elif(70>x>=60):\n",
    "        grade=\"C\"\n",
    "    elif(60>x>=50):\n",
    "        grade=\"D\"\n",
    "    elif(50>x>=0):\n",
    "        grade=\"Fail\"\n",
    "    else:\n",
    "        grade=\"Invalid input\"\n",
    "    return grade\n",
    "\n",
    "def menu():\n",
    "    flag=0\n",
    "    while(flag!=1):\n",
    "        print(\"Enter your choice\")\n",
    "        print(\"0 to calculate grade\")\n",
    "        print(\"1 to Exit\")\n",
    "        flag=int(input())\n",
    "        if(flag==0):\n",
    "            m=in_marks()\n",
    "            result=grading(m)\n",
    "            print(result)\n",
    "            print(\"\")\n",
    "        else:\n",
    "            break\n",
    "\n",
    "menu()"
   ]
  }
 ],
 "metadata": {
  "kernelspec": {
   "display_name": "Python 3",
   "language": "python",
   "name": "python3"
  },
  "language_info": {
   "codemirror_mode": {
    "name": "ipython",
    "version": 3
   },
   "file_extension": ".py",
   "mimetype": "text/x-python",
   "name": "python",
   "nbconvert_exporter": "python",
   "pygments_lexer": "ipython3",
   "version": "3.11.4"
  },
  "orig_nbformat": 4
 },
 "nbformat": 4,
 "nbformat_minor": 2
}
